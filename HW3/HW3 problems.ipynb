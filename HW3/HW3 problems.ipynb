{
 "cells": [
  {
   "cell_type": "markdown",
   "metadata": {},
   "source": [
    "# HW3 problems"
   ],
   "id": "0"
  },
  {
   "cell_type": "markdown",
   "metadata": {},
   "source": [
    "## Question 1: Finite and infinite harmonic oscillators"
   ],
   "id": "1"
  },
  {
   "cell_type": "markdown",
   "metadata": {},
   "source": [
    "### Learning objectives\n",
    "In this question you will:\n",
    "\n",
    "- compare finite and infinite systems\n",
    "- observe how ensembles can be equivalent in the thermodynamic limit\n",
    "- explore the effects of negative temperature in the microcanonical and canonical ensembles\n"
   ],
   "id": "2"
  },
  {
   "cell_type": "markdown",
   "metadata": {},
   "source": [
    "### 1a. "
   ],
   "id": "3"
  },
  {
   "cell_type": "markdown",
   "metadata": {
    "flags": [
     "problems",
     "solutions"
    ]
   },
   "source": [
    "Suppose we have $N$ independent, identical, distinguishable harmonic oscillators. Let's follow the microcanonical approach. Measuring energy in units of $\\hbar\\omega$ (and ignoring the gs energy), the energy of oscillator $i$ can be $E_i=0,1,2,\\ldots$. Calculate the multiplicity $g(N,E)$ of the macrostate given by the total energy of the system, $E$ (and $N$, which we will consider fixed). Then take the thermodynamic limit $N\\rightarrow\\infty$, and find the entropy density $s=\\frac{\\log g}{N}$, and energy density $u=\\frac{E}{N}$. Hence find the temperature $T$ as a function of energy $u$ (set $k_B=1$, i.e. measure temperature in units of energy)."
   ],
   "id": "4"
  },
  {
   "cell_type": "markdown",
   "metadata": {},
   "source": [
    "Write your answer here"
   ],
   "id": "5"
  },
  {
   "cell_type": "markdown",
   "metadata": {},
   "source": [
    "### 1b. "
   ],
   "id": "6"
  },
  {
   "cell_type": "markdown",
   "metadata": {
    "flags": [
     "problems",
     "solutions"
    ]
   },
   "source": [
    "Now suppose the harmonic oscillators were capped at energy $d$, i.e. they are finite systems of dimension $d$ corresponding to the states $|0\\rangle,|1\\rangle,\\ldots,|d-1\\rangle$. Thus the total energy is capped at $0\\le E\\le N(d-1)$, or $0\\le u\\le d-1$. You can think of them as spin-$\\frac{d-1}{2}$ particles with an external magnetic field if you prefer.\n",
    "\n",
    "For $d=2$, repeat the above derivation. What happens to $T$ as $u\\rightarrow \\frac{1}{2}$? What happens for $u>\\frac{1}{2}$?"
   ],
   "id": "7"
  },
  {
   "cell_type": "markdown",
   "metadata": {},
   "source": [
    "Write your answer here"
   ],
   "id": "8"
  },
  {
   "cell_type": "markdown",
   "metadata": {},
   "source": [
    "### 1c. "
   ],
   "id": "9"
  },
  {
   "cell_type": "markdown",
   "metadata": {
    "flags": [
     "problems",
     "solutions"
    ]
   },
   "source": [
    "Now let's consider general $d$. Show that $$g(N,E)=\\sum_{N_{0,1,\\ldots,d-1}\\ge 0\\text{ s.t.}\\sum_iN_i=N,\\,\\sum_i iN_i=E}\\frac{N!}{\\prod_{i=0}^{d-1}N_i!}.$$ Take the thermodynamic limit, defining $N_i=Nn_i$, and approximate the sum to an integral. \n",
    "\n",
    "By Laplace's approximation, for a function $f(x)$ with a unique global maximum $x_0$ inside the range of integration, for large $N$, $$\\int e^{Nf(x)}d^nx=\\sqrt{-\\frac{(2\\pi)^n}{N^n\\det f''(x_0)}}e^{Nf(x_0)}.$$ Hence show that in the thermodynamic limit the entropy density $s$ is the value of a function $f(n_0,\\ldots,n_{d-1})$, optimised over the distributions $n_i$ under the constrainsts $\\sum_in_i=1$ and $\\sum_i in_i=u$. What is this function $f$? (You may assume that $f$ has an unique global maximum that is inside the domain of integration, we will show this in the next question.)"
   ],
   "id": "10"
  },
  {
   "cell_type": "markdown",
   "metadata": {},
   "source": [
    "Write your answer here"
   ],
   "id": "11"
  },
  {
   "cell_type": "markdown",
   "metadata": {},
   "source": [
    "### 1d. "
   ],
   "id": "12"
  },
  {
   "cell_type": "markdown",
   "metadata": {
    "flags": [
     "problems",
     "solutions"
    ]
   },
   "source": [
    "Let's optimize $f$ under the constraints. Show that in the $d$-dimensional unconstrained space of distributions $\\{n_i\\}$, $f$ is convex-up, ($f''$ is negative-definite, i.e. all its eigenvalues are negative, everywhere) in the physically allowed region, so that there is a unique global maximum. Show that $f''$ must therefore be convex-up in the $(d-2)$-dimensional constrained space of distributions, so that there is a unique global maximum in the constrained space. Show that $\\{n_i^*\\}$, where the constrained maximum of $f$ occurs, is in the domain of integration.\n",
    "\n",
    "Use Lagrange optimisation to find this constrained maximum. Define $\\beta$ to be the Lagrange multiplier of the constraint fixing $\\sum_i i n_i=u$, and show that \\begin{align}n_k^*&=\\frac{e^{-\\beta k}}{Z},&Z=\\sum_{k=0}^{d-1} e^{-\\beta k}.\\end{align} Find $u$ as a function of $\\beta$ (at fixed $d$). Since it is difficult to invert $u(\\beta)$ to find $\\beta(u)$, find $s$ and $T$ as functions of $\\beta$, $u(\\beta)$ and $Z(\\beta)$."
   ],
   "id": "13"
  },
  {
   "cell_type": "markdown",
   "metadata": {},
   "source": [
    "Write your answer here"
   ],
   "id": "14"
  },
  {
   "cell_type": "markdown",
   "metadata": {},
   "source": [
    "### 1e. "
   ],
   "id": "15"
  },
  {
   "cell_type": "markdown",
   "metadata": {
    "flags": [
     "problems",
     "solutions"
    ]
   },
   "source": [
    "Let's approach the same problem from the perspective of the canonical ensemble. Suppose our system is put into contact with a thermal bath at temperature $T=\\frac{1}{\\beta}$. Show that the partition function of $N$ non-interacting particles is given by $Z=Z_{(1)}^N$, where $Z_{(1)}=\\sum_i e^{-\\beta E_i}$ is the partition function for each particle/oscillator. Hence find the partition function of $N$ particles/oscillators. Then find the free energy $F=-T\\log Z$, the entropy $S=-\\frac{\\partial F}{\\partial T}$, and the energy $E=F+TS$."
   ],
   "id": "16"
  },
  {
   "cell_type": "markdown",
   "metadata": {},
   "source": [
    "Write your answer here"
   ],
   "id": "17"
  },
  {
   "cell_type": "markdown",
   "metadata": {},
   "source": [
    "### 1f. "
   ],
   "id": "18"
  },
  {
   "cell_type": "markdown",
   "metadata": {
    "flags": [
     "problems",
     "solutions"
    ]
   },
   "source": [
    "Compare your answers to the last two questions, from the microcanonical and canonical perspectives. Are they equivalent? Why or why not?"
   ],
   "id": "19"
  },
  {
   "cell_type": "markdown",
   "metadata": {},
   "source": [
    "Write your answer here"
   ],
   "id": "20"
  },
  {
   "cell_type": "markdown",
   "metadata": {},
   "source": [
    "### 1g. "
   ],
   "id": "21"
  },
  {
   "cell_type": "markdown",
   "metadata": {
    "flags": [
     "problems",
     "solutions"
    ]
   },
   "source": [
    "For a variety of $d$ from 2 to some large number (in the same plot), plot $\\frac{F}{N(d-1)}$, $\\frac{u}{d-1}$, and $\\frac{s}{\\log d}$ against $\\beta$, and $\\frac{s}{\\log d}$ against $\\frac{u}{d-1}$ (in separate plots). (I.e. make four plots, each with many lines of different $d$.)"
   ],
   "id": "22"
  },
  {
   "cell_type": "code",
   "metadata": {},
   "source": [
    "#Write your answer here"
   ],
   "outputs": [],
   "execution_count": null,
   "id": "23"
  },
  {
   "cell_type": "markdown",
   "metadata": {},
   "source": [
    "### 1h. "
   ],
   "id": "24"
  },
  {
   "cell_type": "markdown",
   "metadata": {
    "flags": [
     "problems",
     "solutions"
    ]
   },
   "source": [
    "Now compare your results for finite $d$ to the infinite case: make plots of $\\frac{F}{N}$, $u$, and $s$ against $T$, and $s$ against $u$, for the same $d$ as above, as well as $d\\rightarrow\\infty$."
   ],
   "id": "25"
  },
  {
   "cell_type": "code",
   "metadata": {},
   "source": [
    "#Write your answer here"
   ],
   "outputs": [],
   "execution_count": null,
   "id": "26"
  },
  {
   "cell_type": "markdown",
   "metadata": {},
   "source": [
    "### 1i. "
   ],
   "id": "27"
  },
  {
   "cell_type": "markdown",
   "metadata": {
    "flags": [
     "problems",
     "solutions"
    ]
   },
   "source": [
    "Suppose you had a really large finite-dimensional system with $\\beta<0$, as your thermal bath. What would happen if you immersed a small, infinite-dimensional system in it?"
   ],
   "id": "28"
  },
  {
   "cell_type": "markdown",
   "metadata": {},
   "source": [
    "Write your answer here"
   ],
   "id": "29"
  },
  {
   "cell_type": "markdown",
   "metadata": {},
   "source": [
    "### 1j. "
   ],
   "id": "30"
  },
  {
   "cell_type": "markdown",
   "metadata": {
    "flags": [
     "problems",
     "solutions"
    ]
   },
   "source": [
    "Suppose you have $N_1> N_2\\gg 1$ particles in systems 1 and 2, which have dimension $d_1,d_2$. How much bigger should $N_1$ be than $N_2$ for system 1 to act as a bath?\n",
    "\n",
    "Write a function to numerically solve for the equilibrium $\\beta$, given $\\beta_1,\\beta_2,d_1,d_2,\\frac{N_1}{N_2}$.\n",
    "\n",
    "For $-\\beta_1=\\beta_2=1$, and some small value for $d_1$ (chosen by you), plot $\\beta_{\\rm eq}$ as a function of $\\frac{N_1}{N_2}$ for a variety of $d_2$. How much bigger should $N_1$ be than $N_2$ for us to be able to use the canonical ensemble approach for system 2, for $\\beta>0$ and $\\beta<0$?"
   ],
   "id": "31"
  },
  {
   "cell_type": "code",
   "metadata": {},
   "source": [
    "#Write your answer here"
   ],
   "outputs": [],
   "execution_count": null,
   "id": "32"
  },
  {
   "cell_type": "markdown",
   "metadata": {},
   "source": [
    "### 1k. "
   ],
   "id": "33"
  },
  {
   "cell_type": "markdown",
   "metadata": {
    "flags": [
     "problems",
     "solutions"
    ]
   },
   "source": [
    "For a finite-dimensional system (CYO$d$) immersed in a bath, plot the free energy as a function of energy (at constant $T$). Make a few plots at different temperatures, and indicate the actual (expected) energy of the system on each plot. Is free energy minimised for $T<0$? \n",
    "\n",
    "Also plot the log of the probability distribution of the energy (remember to include multiplicity) on the same plots. Explain your results by relating the probaility of seeing energy $E$ to $F(E)$."
   ],
   "id": "34"
  },
  {
   "cell_type": "code",
   "metadata": {},
   "source": [
    "#Write your answer here"
   ],
   "outputs": [],
   "execution_count": null,
   "id": "35"
  },
  {
   "cell_type": "markdown",
   "metadata": {},
   "source": [
    "---"
   ],
   "id": "36"
  },
  {
   "cell_type": "markdown",
   "metadata": {},
   "source": [
    "## Question 2: Example Notebook"
   ],
   "id": "37"
  },
  {
   "cell_type": "markdown",
   "metadata": {},
   "source": [
    "### Learning objectives\n",
    "In this question you will:\n",
    "\n",
    "- Demonstrate the basic functionality of Jupyter Notebooks for compuational problems\n"
   ],
   "id": "38"
  },
  {
   "cell_type": "markdown",
   "metadata": {
    "flags": [
     "problems",
     "solutions"
    ]
   },
   "source": [
    "The purpose of the notebook is to provide students with an opportunity to verify that they have access to the Berkeley Data Hub and that they can answer basic questions using Markdown cells and python scripts.  If you are unfamiliar with python, or would like a refresher, please take a look at:\n",
    "\n",
    "https://datahub.berkeley.edu/hub/user-redirect/git-pull?repo=https%3A%2F%2Fgithub.com%2Fberkeley-physics%2FPython-Tutorials&branch=master\n"
   ],
   "id": "39"
  },
  {
   "cell_type": "markdown",
   "metadata": {},
   "source": [
    "### 2a. "
   ],
   "id": "40"
  },
  {
   "cell_type": "markdown",
   "metadata": {
    "flags": [
     "problems",
     "solutions"
    ]
   },
   "source": [
    "Markdown can be used to put text, equations and tables into a Jupyter Notebook.  A basic introduction to Markdown can be found at:\n",
    "\n",
    "https://jupyter-notebook.readthedocs.io/en/stable/examples/Notebook/Working%20With%20Markdown%20Cells.html\n",
    "\n",
    "Verify that you can fill a Markdown cell correctly by reproducing the text below:\n"
   ],
   "id": "41"
  },
  {
   "cell_type": "markdown",
   "metadata": {
    "flags": [
     "problems",
     "solutions"
    ]
   },
   "source": [
    "<img src=\"sampleMarkdown-1.png\" alt=\"Drawing\" style=\"width:800px;\"/>"
   ],
   "id": "42"
  },
  {
   "cell_type": "markdown",
   "metadata": {},
   "source": [
    "Write your answer here"
   ],
   "id": "43"
  },
  {
   "cell_type": "markdown",
   "metadata": {},
   "source": [
    "### 2b. "
   ],
   "id": "44"
  },
  {
   "cell_type": "markdown",
   "metadata": {
    "flags": [
     "problems",
     "solutions"
    ]
   },
   "source": [
    "Our coding will be done in python.  Start by executing the cell below:"
   ],
   "id": "45"
  },
  {
   "cell_type": "code",
   "execution_count": 16,
   "metadata": {
    "flags": [
     "problems",
     "solutions"
    ]
   },
   "outputs": [],
   "source": [
    "a=10\n",
    "b=20\n",
    "\n",
    "a_list = [1,2,3,4,5]\n",
    "b_list = [2,4,6,8,10]\n",
    "\n",
    "import numpy as np\n",
    "a_array = np.array(a_list)\n",
    "b_array = np.array(b_list)"
   ],
   "id": "46"
  },
  {
   "cell_type": "markdown",
   "metadata": {
    "flags": [
     "problems",
     "solutions"
    ]
   },
   "source": [
    "Verify that you can use python to do simple arithmetic and to do math using numpy arrays by calculating:\n",
    "\n",
    "* $a+b$\n",
    "* The sum of the third out of five elements of a\\_list and b\\_list\n",
    "* $(a\\_array)^2+(b\\_array)^2$ (the answer should be given as an array of 5 numbers)"
   ],
   "id": "47"
  },
  {
   "cell_type": "code",
   "metadata": {},
   "source": [
    "#Write your answer here"
   ],
   "outputs": [],
   "execution_count": null,
   "id": "48"
  },
  {
   "cell_type": "markdown",
   "metadata": {},
   "source": [
    "### 2c. "
   ],
   "id": "49"
  },
  {
   "cell_type": "markdown",
   "metadata": {
    "flags": [
     "problems",
     "solutions"
    ]
   },
   "source": [
    "One useful package to make plots is matplotlib.  The code fragment below loads the plotting library and sets up a numpy array of 101 equally spaced numbers with values between 0 and 5"
   ],
   "id": "50"
  },
  {
   "cell_type": "code",
   "execution_count": 19,
   "metadata": {
    "flags": [
     "problems",
     "solutions"
    ]
   },
   "outputs": [],
   "source": [
    "import matplotlib.pyplot as plt\n",
    "x_array = np.linspace(0,5,101)"
   ],
   "id": "51"
  },
  {
   "cell_type": "markdown",
   "metadata": {
    "flags": [
     "problems",
     "solutions"
    ]
   },
   "source": [
    "Make a scatter plot where where the x-axis values are x_array and where the y-axis values are $y=e^{-x/2}$.  Make sure to put labels on the x and y axes"
   ],
   "id": "52"
  },
  {
   "cell_type": "code",
   "metadata": {},
   "source": [
    "#Write your answer here"
   ],
   "outputs": [],
   "execution_count": null,
   "id": "53"
  }
 ],
 "metadata": {
  "kernelspec": {
   "display_name": "Python [default]",
   "language": "python",
   "name": "python3"
  },
  "language_info": {
   "codemirror_mode": {
    "name": "ipython",
    "version": 3
   },
   "file_extension": ".py",
   "mimetype": "text/x-python",
   "name": "python",
   "nbconvert_exporter": "python",
   "pygments_lexer": "ipython3",
   "version": "3.6.8"
  }
 },
 "nbformat": 4,
 "nbformat_minor": 5
}